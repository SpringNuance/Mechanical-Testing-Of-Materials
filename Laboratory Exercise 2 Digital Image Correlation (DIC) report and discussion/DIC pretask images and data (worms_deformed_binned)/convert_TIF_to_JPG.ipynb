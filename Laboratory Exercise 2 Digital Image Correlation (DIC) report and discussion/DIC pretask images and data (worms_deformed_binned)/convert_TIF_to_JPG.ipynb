{
 "cells": [
  {
   "cell_type": "code",
   "execution_count": 1,
   "metadata": {},
   "outputs": [
    {
     "name": "stdout",
     "output_type": "stream",
     "text": [
      "Conversion complete.\n"
     ]
    }
   ],
   "source": [
    "from PIL import Image\n",
    "import os\n",
    "\n",
    "input_directory = 'TIFF images'\n",
    "output_directory = 'JPG images'\n",
    "\n",
    "if not os.path.exists(output_directory):\n",
    "    os.makedirs(output_directory)\n",
    "\n",
    "for filename in os.listdir(input_directory):\n",
    "    if filename.endswith('.tif') or filename.endswith('.tiff'):\n",
    "\n",
    "        input_path = os.path.join(input_directory, filename)\n",
    "        output_path = os.path.join(output_directory, f\"{os.path.splitext(filename)[0]}.jpg\")\n",
    "\n",
    "        # Open and convert the image\n",
    "        image = Image.open(input_path)\n",
    "        image = image.convert('RGB')  # Convert image to RGB, necessary for saving as JPEG\n",
    "\n",
    "        # Save the converted image to the output directory\n",
    "        image.save(output_path, 'JPEG')\n",
    "\n",
    "print(\"Conversion complete.\")\n"
   ]
  }
 ],
 "metadata": {
  "kernelspec": {
   "display_name": "Python 3",
   "language": "python",
   "name": "python3"
  },
  "language_info": {
   "codemirror_mode": {
    "name": "ipython",
    "version": 3
   },
   "file_extension": ".py",
   "mimetype": "text/x-python",
   "name": "python",
   "nbconvert_exporter": "python",
   "pygments_lexer": "ipython3",
   "version": "3.12.3"
  }
 },
 "nbformat": 4,
 "nbformat_minor": 2
}
